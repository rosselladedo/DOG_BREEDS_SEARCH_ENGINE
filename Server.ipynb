{
  "nbformat": 4,
  "nbformat_minor": 0,
  "metadata": {
    "colab": {
      "name": "Server.ipynb",
      "provenance": [],
      "collapsed_sections": [],
      "include_colab_link": true
    },
    "kernelspec": {
      "name": "python3",
      "display_name": "Python 3"
    },
    "language_info": {
      "name": "python"
    },
    "widgets": {
      "application/vnd.jupyter.widget-state+json": {
        "7c94b0f87abc42eab24e6e54e62c3c64": {
          "model_module": "@jupyter-widgets/controls",
          "model_name": "HBoxModel",
          "model_module_version": "1.5.0",
          "state": {
            "_dom_classes": [],
            "_model_module": "@jupyter-widgets/controls",
            "_model_module_version": "1.5.0",
            "_model_name": "HBoxModel",
            "_view_count": null,
            "_view_module": "@jupyter-widgets/controls",
            "_view_module_version": "1.5.0",
            "_view_name": "HBoxView",
            "box_style": "",
            "children": [
              "IPY_MODEL_d826558a79054a0fbf8d9d1f2f7f11dd",
              "IPY_MODEL_b791d04b4cc7469fa4f67b49678a16a4",
              "IPY_MODEL_b59e927bbe8a4c7488a2c82b02998b80"
            ],
            "layout": "IPY_MODEL_84d0a41af5c441c880b0a39191a15f31"
          }
        },
        "d826558a79054a0fbf8d9d1f2f7f11dd": {
          "model_module": "@jupyter-widgets/controls",
          "model_name": "HTMLModel",
          "model_module_version": "1.5.0",
          "state": {
            "_dom_classes": [],
            "_model_module": "@jupyter-widgets/controls",
            "_model_module_version": "1.5.0",
            "_model_name": "HTMLModel",
            "_view_count": null,
            "_view_module": "@jupyter-widgets/controls",
            "_view_module_version": "1.5.0",
            "_view_name": "HTMLView",
            "description": "",
            "description_tooltip": null,
            "layout": "IPY_MODEL_4ec63280b3914dc9a8a310b1e71bccc0",
            "placeholder": "​",
            "style": "IPY_MODEL_2a2a14811e054ffb8496975fb4f1acd2",
            "value": "100%"
          }
        },
        "b791d04b4cc7469fa4f67b49678a16a4": {
          "model_module": "@jupyter-widgets/controls",
          "model_name": "FloatProgressModel",
          "model_module_version": "1.5.0",
          "state": {
            "_dom_classes": [],
            "_model_module": "@jupyter-widgets/controls",
            "_model_module_version": "1.5.0",
            "_model_name": "FloatProgressModel",
            "_view_count": null,
            "_view_module": "@jupyter-widgets/controls",
            "_view_module_version": "1.5.0",
            "_view_name": "ProgressView",
            "bar_style": "success",
            "description": "",
            "description_tooltip": null,
            "layout": "IPY_MODEL_dccd1815e7cc4e0a9f700a543aa1a000",
            "max": 44580,
            "min": 0,
            "orientation": "horizontal",
            "style": "IPY_MODEL_9859082993844c728025f32863319dcb",
            "value": 44580
          }
        },
        "b59e927bbe8a4c7488a2c82b02998b80": {
          "model_module": "@jupyter-widgets/controls",
          "model_name": "HTMLModel",
          "model_module_version": "1.5.0",
          "state": {
            "_dom_classes": [],
            "_model_module": "@jupyter-widgets/controls",
            "_model_module_version": "1.5.0",
            "_model_name": "HTMLModel",
            "_view_count": null,
            "_view_module": "@jupyter-widgets/controls",
            "_view_module_version": "1.5.0",
            "_view_name": "HTMLView",
            "description": "",
            "description_tooltip": null,
            "layout": "IPY_MODEL_bcc5e372302642558eef07a95cb06e01",
            "placeholder": "​",
            "style": "IPY_MODEL_638a344d30ce4fffb7e675b01e4d1d31",
            "value": " 44580/44580 [00:04&lt;00:00, 10726.67it/s]"
          }
        },
        "84d0a41af5c441c880b0a39191a15f31": {
          "model_module": "@jupyter-widgets/base",
          "model_name": "LayoutModel",
          "model_module_version": "1.2.0",
          "state": {
            "_model_module": "@jupyter-widgets/base",
            "_model_module_version": "1.2.0",
            "_model_name": "LayoutModel",
            "_view_count": null,
            "_view_module": "@jupyter-widgets/base",
            "_view_module_version": "1.2.0",
            "_view_name": "LayoutView",
            "align_content": null,
            "align_items": null,
            "align_self": null,
            "border": null,
            "bottom": null,
            "display": null,
            "flex": null,
            "flex_flow": null,
            "grid_area": null,
            "grid_auto_columns": null,
            "grid_auto_flow": null,
            "grid_auto_rows": null,
            "grid_column": null,
            "grid_gap": null,
            "grid_row": null,
            "grid_template_areas": null,
            "grid_template_columns": null,
            "grid_template_rows": null,
            "height": null,
            "justify_content": null,
            "justify_items": null,
            "left": null,
            "margin": null,
            "max_height": null,
            "max_width": null,
            "min_height": null,
            "min_width": null,
            "object_fit": null,
            "object_position": null,
            "order": null,
            "overflow": null,
            "overflow_x": null,
            "overflow_y": null,
            "padding": null,
            "right": null,
            "top": null,
            "visibility": null,
            "width": null
          }
        },
        "4ec63280b3914dc9a8a310b1e71bccc0": {
          "model_module": "@jupyter-widgets/base",
          "model_name": "LayoutModel",
          "model_module_version": "1.2.0",
          "state": {
            "_model_module": "@jupyter-widgets/base",
            "_model_module_version": "1.2.0",
            "_model_name": "LayoutModel",
            "_view_count": null,
            "_view_module": "@jupyter-widgets/base",
            "_view_module_version": "1.2.0",
            "_view_name": "LayoutView",
            "align_content": null,
            "align_items": null,
            "align_self": null,
            "border": null,
            "bottom": null,
            "display": null,
            "flex": null,
            "flex_flow": null,
            "grid_area": null,
            "grid_auto_columns": null,
            "grid_auto_flow": null,
            "grid_auto_rows": null,
            "grid_column": null,
            "grid_gap": null,
            "grid_row": null,
            "grid_template_areas": null,
            "grid_template_columns": null,
            "grid_template_rows": null,
            "height": null,
            "justify_content": null,
            "justify_items": null,
            "left": null,
            "margin": null,
            "max_height": null,
            "max_width": null,
            "min_height": null,
            "min_width": null,
            "object_fit": null,
            "object_position": null,
            "order": null,
            "overflow": null,
            "overflow_x": null,
            "overflow_y": null,
            "padding": null,
            "right": null,
            "top": null,
            "visibility": null,
            "width": null
          }
        },
        "2a2a14811e054ffb8496975fb4f1acd2": {
          "model_module": "@jupyter-widgets/controls",
          "model_name": "DescriptionStyleModel",
          "model_module_version": "1.5.0",
          "state": {
            "_model_module": "@jupyter-widgets/controls",
            "_model_module_version": "1.5.0",
            "_model_name": "DescriptionStyleModel",
            "_view_count": null,
            "_view_module": "@jupyter-widgets/base",
            "_view_module_version": "1.2.0",
            "_view_name": "StyleView",
            "description_width": ""
          }
        },
        "dccd1815e7cc4e0a9f700a543aa1a000": {
          "model_module": "@jupyter-widgets/base",
          "model_name": "LayoutModel",
          "model_module_version": "1.2.0",
          "state": {
            "_model_module": "@jupyter-widgets/base",
            "_model_module_version": "1.2.0",
            "_model_name": "LayoutModel",
            "_view_count": null,
            "_view_module": "@jupyter-widgets/base",
            "_view_module_version": "1.2.0",
            "_view_name": "LayoutView",
            "align_content": null,
            "align_items": null,
            "align_self": null,
            "border": null,
            "bottom": null,
            "display": null,
            "flex": null,
            "flex_flow": null,
            "grid_area": null,
            "grid_auto_columns": null,
            "grid_auto_flow": null,
            "grid_auto_rows": null,
            "grid_column": null,
            "grid_gap": null,
            "grid_row": null,
            "grid_template_areas": null,
            "grid_template_columns": null,
            "grid_template_rows": null,
            "height": null,
            "justify_content": null,
            "justify_items": null,
            "left": null,
            "margin": null,
            "max_height": null,
            "max_width": null,
            "min_height": null,
            "min_width": null,
            "object_fit": null,
            "object_position": null,
            "order": null,
            "overflow": null,
            "overflow_x": null,
            "overflow_y": null,
            "padding": null,
            "right": null,
            "top": null,
            "visibility": null,
            "width": null
          }
        },
        "9859082993844c728025f32863319dcb": {
          "model_module": "@jupyter-widgets/controls",
          "model_name": "ProgressStyleModel",
          "model_module_version": "1.5.0",
          "state": {
            "_model_module": "@jupyter-widgets/controls",
            "_model_module_version": "1.5.0",
            "_model_name": "ProgressStyleModel",
            "_view_count": null,
            "_view_module": "@jupyter-widgets/base",
            "_view_module_version": "1.2.0",
            "_view_name": "StyleView",
            "bar_color": null,
            "description_width": ""
          }
        },
        "bcc5e372302642558eef07a95cb06e01": {
          "model_module": "@jupyter-widgets/base",
          "model_name": "LayoutModel",
          "model_module_version": "1.2.0",
          "state": {
            "_model_module": "@jupyter-widgets/base",
            "_model_module_version": "1.2.0",
            "_model_name": "LayoutModel",
            "_view_count": null,
            "_view_module": "@jupyter-widgets/base",
            "_view_module_version": "1.2.0",
            "_view_name": "LayoutView",
            "align_content": null,
            "align_items": null,
            "align_self": null,
            "border": null,
            "bottom": null,
            "display": null,
            "flex": null,
            "flex_flow": null,
            "grid_area": null,
            "grid_auto_columns": null,
            "grid_auto_flow": null,
            "grid_auto_rows": null,
            "grid_column": null,
            "grid_gap": null,
            "grid_row": null,
            "grid_template_areas": null,
            "grid_template_columns": null,
            "grid_template_rows": null,
            "height": null,
            "justify_content": null,
            "justify_items": null,
            "left": null,
            "margin": null,
            "max_height": null,
            "max_width": null,
            "min_height": null,
            "min_width": null,
            "object_fit": null,
            "object_position": null,
            "order": null,
            "overflow": null,
            "overflow_x": null,
            "overflow_y": null,
            "padding": null,
            "right": null,
            "top": null,
            "visibility": null,
            "width": null
          }
        },
        "638a344d30ce4fffb7e675b01e4d1d31": {
          "model_module": "@jupyter-widgets/controls",
          "model_name": "DescriptionStyleModel",
          "model_module_version": "1.5.0",
          "state": {
            "_model_module": "@jupyter-widgets/controls",
            "_model_module_version": "1.5.0",
            "_model_name": "DescriptionStyleModel",
            "_view_count": null,
            "_view_module": "@jupyter-widgets/base",
            "_view_module_version": "1.2.0",
            "_view_name": "StyleView",
            "description_width": ""
          }
        },
        "f7db65ff9af240a8b3d4d6d7fb0fe3d0": {
          "model_module": "@jupyter-widgets/controls",
          "model_name": "HBoxModel",
          "model_module_version": "1.5.0",
          "state": {
            "_dom_classes": [],
            "_model_module": "@jupyter-widgets/controls",
            "_model_module_version": "1.5.0",
            "_model_name": "HBoxModel",
            "_view_count": null,
            "_view_module": "@jupyter-widgets/controls",
            "_view_module_version": "1.5.0",
            "_view_name": "HBoxView",
            "box_style": "",
            "children": [
              "IPY_MODEL_6f0057bc90774a22a963bb0f6d4b3b21",
              "IPY_MODEL_b30f1a4249ef41609f984a8147276788",
              "IPY_MODEL_c0eff1dca85b42f08b8bb1c130ab8449"
            ],
            "layout": "IPY_MODEL_88c00c137b164519b6efe83b09f5e027"
          }
        },
        "6f0057bc90774a22a963bb0f6d4b3b21": {
          "model_module": "@jupyter-widgets/controls",
          "model_name": "HTMLModel",
          "model_module_version": "1.5.0",
          "state": {
            "_dom_classes": [],
            "_model_module": "@jupyter-widgets/controls",
            "_model_module_version": "1.5.0",
            "_model_name": "HTMLModel",
            "_view_count": null,
            "_view_module": "@jupyter-widgets/controls",
            "_view_module_version": "1.5.0",
            "_view_name": "HTMLView",
            "description": "",
            "description_tooltip": null,
            "layout": "IPY_MODEL_91dfe7d7f8aa44bbbbf12ce3d09f152f",
            "placeholder": "​",
            "style": "IPY_MODEL_91d4dee542f04eb487ed687fd957572d",
            "value": "100%"
          }
        },
        "b30f1a4249ef41609f984a8147276788": {
          "model_module": "@jupyter-widgets/controls",
          "model_name": "FloatProgressModel",
          "model_module_version": "1.5.0",
          "state": {
            "_dom_classes": [],
            "_model_module": "@jupyter-widgets/controls",
            "_model_module_version": "1.5.0",
            "_model_name": "FloatProgressModel",
            "_view_count": null,
            "_view_module": "@jupyter-widgets/controls",
            "_view_module_version": "1.5.0",
            "_view_name": "ProgressView",
            "bar_style": "success",
            "description": "",
            "description_tooltip": null,
            "layout": "IPY_MODEL_ddaaf701216d497294f8a6cf2e5f01e1",
            "max": 44580,
            "min": 0,
            "orientation": "horizontal",
            "style": "IPY_MODEL_93a3ad80396a4f31907ca95712bc09dd",
            "value": 44580
          }
        },
        "c0eff1dca85b42f08b8bb1c130ab8449": {
          "model_module": "@jupyter-widgets/controls",
          "model_name": "HTMLModel",
          "model_module_version": "1.5.0",
          "state": {
            "_dom_classes": [],
            "_model_module": "@jupyter-widgets/controls",
            "_model_module_version": "1.5.0",
            "_model_name": "HTMLModel",
            "_view_count": null,
            "_view_module": "@jupyter-widgets/controls",
            "_view_module_version": "1.5.0",
            "_view_name": "HTMLView",
            "description": "",
            "description_tooltip": null,
            "layout": "IPY_MODEL_0ad0a0a126594d68af47875f5b30bbbe",
            "placeholder": "​",
            "style": "IPY_MODEL_0781f50cd71741179695068f29ff9fbb",
            "value": " 44580/44580 [00:04&lt;00:00, 10999.85it/s]"
          }
        },
        "88c00c137b164519b6efe83b09f5e027": {
          "model_module": "@jupyter-widgets/base",
          "model_name": "LayoutModel",
          "model_module_version": "1.2.0",
          "state": {
            "_model_module": "@jupyter-widgets/base",
            "_model_module_version": "1.2.0",
            "_model_name": "LayoutModel",
            "_view_count": null,
            "_view_module": "@jupyter-widgets/base",
            "_view_module_version": "1.2.0",
            "_view_name": "LayoutView",
            "align_content": null,
            "align_items": null,
            "align_self": null,
            "border": null,
            "bottom": null,
            "display": null,
            "flex": null,
            "flex_flow": null,
            "grid_area": null,
            "grid_auto_columns": null,
            "grid_auto_flow": null,
            "grid_auto_rows": null,
            "grid_column": null,
            "grid_gap": null,
            "grid_row": null,
            "grid_template_areas": null,
            "grid_template_columns": null,
            "grid_template_rows": null,
            "height": null,
            "justify_content": null,
            "justify_items": null,
            "left": null,
            "margin": null,
            "max_height": null,
            "max_width": null,
            "min_height": null,
            "min_width": null,
            "object_fit": null,
            "object_position": null,
            "order": null,
            "overflow": null,
            "overflow_x": null,
            "overflow_y": null,
            "padding": null,
            "right": null,
            "top": null,
            "visibility": null,
            "width": null
          }
        },
        "91dfe7d7f8aa44bbbbf12ce3d09f152f": {
          "model_module": "@jupyter-widgets/base",
          "model_name": "LayoutModel",
          "model_module_version": "1.2.0",
          "state": {
            "_model_module": "@jupyter-widgets/base",
            "_model_module_version": "1.2.0",
            "_model_name": "LayoutModel",
            "_view_count": null,
            "_view_module": "@jupyter-widgets/base",
            "_view_module_version": "1.2.0",
            "_view_name": "LayoutView",
            "align_content": null,
            "align_items": null,
            "align_self": null,
            "border": null,
            "bottom": null,
            "display": null,
            "flex": null,
            "flex_flow": null,
            "grid_area": null,
            "grid_auto_columns": null,
            "grid_auto_flow": null,
            "grid_auto_rows": null,
            "grid_column": null,
            "grid_gap": null,
            "grid_row": null,
            "grid_template_areas": null,
            "grid_template_columns": null,
            "grid_template_rows": null,
            "height": null,
            "justify_content": null,
            "justify_items": null,
            "left": null,
            "margin": null,
            "max_height": null,
            "max_width": null,
            "min_height": null,
            "min_width": null,
            "object_fit": null,
            "object_position": null,
            "order": null,
            "overflow": null,
            "overflow_x": null,
            "overflow_y": null,
            "padding": null,
            "right": null,
            "top": null,
            "visibility": null,
            "width": null
          }
        },
        "91d4dee542f04eb487ed687fd957572d": {
          "model_module": "@jupyter-widgets/controls",
          "model_name": "DescriptionStyleModel",
          "model_module_version": "1.5.0",
          "state": {
            "_model_module": "@jupyter-widgets/controls",
            "_model_module_version": "1.5.0",
            "_model_name": "DescriptionStyleModel",
            "_view_count": null,
            "_view_module": "@jupyter-widgets/base",
            "_view_module_version": "1.2.0",
            "_view_name": "StyleView",
            "description_width": ""
          }
        },
        "ddaaf701216d497294f8a6cf2e5f01e1": {
          "model_module": "@jupyter-widgets/base",
          "model_name": "LayoutModel",
          "model_module_version": "1.2.0",
          "state": {
            "_model_module": "@jupyter-widgets/base",
            "_model_module_version": "1.2.0",
            "_model_name": "LayoutModel",
            "_view_count": null,
            "_view_module": "@jupyter-widgets/base",
            "_view_module_version": "1.2.0",
            "_view_name": "LayoutView",
            "align_content": null,
            "align_items": null,
            "align_self": null,
            "border": null,
            "bottom": null,
            "display": null,
            "flex": null,
            "flex_flow": null,
            "grid_area": null,
            "grid_auto_columns": null,
            "grid_auto_flow": null,
            "grid_auto_rows": null,
            "grid_column": null,
            "grid_gap": null,
            "grid_row": null,
            "grid_template_areas": null,
            "grid_template_columns": null,
            "grid_template_rows": null,
            "height": null,
            "justify_content": null,
            "justify_items": null,
            "left": null,
            "margin": null,
            "max_height": null,
            "max_width": null,
            "min_height": null,
            "min_width": null,
            "object_fit": null,
            "object_position": null,
            "order": null,
            "overflow": null,
            "overflow_x": null,
            "overflow_y": null,
            "padding": null,
            "right": null,
            "top": null,
            "visibility": null,
            "width": null
          }
        },
        "93a3ad80396a4f31907ca95712bc09dd": {
          "model_module": "@jupyter-widgets/controls",
          "model_name": "ProgressStyleModel",
          "model_module_version": "1.5.0",
          "state": {
            "_model_module": "@jupyter-widgets/controls",
            "_model_module_version": "1.5.0",
            "_model_name": "ProgressStyleModel",
            "_view_count": null,
            "_view_module": "@jupyter-widgets/base",
            "_view_module_version": "1.2.0",
            "_view_name": "StyleView",
            "bar_color": null,
            "description_width": ""
          }
        },
        "0ad0a0a126594d68af47875f5b30bbbe": {
          "model_module": "@jupyter-widgets/base",
          "model_name": "LayoutModel",
          "model_module_version": "1.2.0",
          "state": {
            "_model_module": "@jupyter-widgets/base",
            "_model_module_version": "1.2.0",
            "_model_name": "LayoutModel",
            "_view_count": null,
            "_view_module": "@jupyter-widgets/base",
            "_view_module_version": "1.2.0",
            "_view_name": "LayoutView",
            "align_content": null,
            "align_items": null,
            "align_self": null,
            "border": null,
            "bottom": null,
            "display": null,
            "flex": null,
            "flex_flow": null,
            "grid_area": null,
            "grid_auto_columns": null,
            "grid_auto_flow": null,
            "grid_auto_rows": null,
            "grid_column": null,
            "grid_gap": null,
            "grid_row": null,
            "grid_template_areas": null,
            "grid_template_columns": null,
            "grid_template_rows": null,
            "height": null,
            "justify_content": null,
            "justify_items": null,
            "left": null,
            "margin": null,
            "max_height": null,
            "max_width": null,
            "min_height": null,
            "min_width": null,
            "object_fit": null,
            "object_position": null,
            "order": null,
            "overflow": null,
            "overflow_x": null,
            "overflow_y": null,
            "padding": null,
            "right": null,
            "top": null,
            "visibility": null,
            "width": null
          }
        },
        "0781f50cd71741179695068f29ff9fbb": {
          "model_module": "@jupyter-widgets/controls",
          "model_name": "DescriptionStyleModel",
          "model_module_version": "1.5.0",
          "state": {
            "_model_module": "@jupyter-widgets/controls",
            "_model_module_version": "1.5.0",
            "_model_name": "DescriptionStyleModel",
            "_view_count": null,
            "_view_module": "@jupyter-widgets/base",
            "_view_module_version": "1.2.0",
            "_view_name": "StyleView",
            "description_width": ""
          }
        }
      }
    }
  },
  "cells": [
    {
      "cell_type": "markdown",
      "metadata": {
        "id": "view-in-github",
        "colab_type": "text"
      },
      "source": [
        "<a href=\"https://colab.research.google.com/github/rosselladedo/DOG_BREEDS_SEARCH_ENGINE/blob/main/Server.ipynb\" target=\"_parent\"><img src=\"https://colab.research.google.com/assets/colab-badge.svg\" alt=\"Open In Colab\"/></a>"
      ]
    },
    {
      "cell_type": "code",
      "source": [
        "from google.colab import drive\n",
        "drive.mount('/content/gdrive/', force_remount=True)"
      ],
      "metadata": {
        "colab": {
          "base_uri": "https://localhost:8080/"
        },
        "id": "vPY7IMb0-Zra",
        "outputId": "5acc9fc4-08ad-4a4c-ffa4-b26a02ca6e9d"
      },
      "execution_count": null,
      "outputs": [
        {
          "output_type": "stream",
          "name": "stdout",
          "text": [
            "Mounted at /content/gdrive/\n"
          ]
        }
      ]
    },
    {
      "cell_type": "code",
      "execution_count": null,
      "metadata": {
        "colab": {
          "base_uri": "https://localhost:8080/",
          "height": 446
        },
        "id": "sAwPa6lx3fo9",
        "outputId": "80515f7b-0126-4a5d-ceb1-86b51abd13e9"
      },
      "outputs": [
        {
          "output_type": "stream",
          "name": "stdout",
          "text": [
            "Looking in indexes: https://pypi.org/simple, https://us-python.pkg.dev/colab-wheels/public/simple/\n",
            "Collecting anvil-uplink\n",
            "  Downloading anvil_uplink-0.3.42-py2.py3-none-any.whl (64 kB)\n",
            "\u001b[K     |████████████████████████████████| 64 kB 2.2 MB/s \n",
            "\u001b[?25hCollecting ws4py\n",
            "  Downloading ws4py-0.5.1.tar.gz (51 kB)\n",
            "\u001b[K     |████████████████████████████████| 51 kB 211 kB/s \n",
            "\u001b[?25hRequirement already satisfied: six in /usr/local/lib/python3.7/dist-packages (from anvil-uplink) (1.15.0)\n",
            "Collecting argparse\n",
            "  Downloading argparse-1.4.0-py2.py3-none-any.whl (23 kB)\n",
            "Requirement already satisfied: future in /usr/local/lib/python3.7/dist-packages (from anvil-uplink) (0.16.0)\n",
            "Building wheels for collected packages: ws4py\n",
            "  Building wheel for ws4py (setup.py) ... \u001b[?25l\u001b[?25hdone\n",
            "  Created wheel for ws4py: filename=ws4py-0.5.1-py3-none-any.whl size=45229 sha256=c33b306e593d08ab162a52f9c2ed9c1046d13b7e8bf94f3a6d14751185834cc3\n",
            "  Stored in directory: /root/.cache/pip/wheels/29/ea/7d/3410aa0aa0e4402ead9a7a97ab2214804887e0f5c2b76f0c96\n",
            "Successfully built ws4py\n",
            "Installing collected packages: ws4py, argparse, anvil-uplink\n",
            "Successfully installed anvil-uplink-0.3.42 argparse-1.4.0 ws4py-0.5.1\n"
          ]
        },
        {
          "output_type": "display_data",
          "data": {
            "application/vnd.colab-display-data+json": {
              "pip_warning": {
                "packages": [
                  "argparse",
                  "google"
                ]
              }
            }
          },
          "metadata": {}
        }
      ],
      "source": [
        "!pip install anvil-uplink"
      ]
    },
    {
      "cell_type": "code",
      "source": [
        "import numpy as np\n",
        "import os, shutil\n",
        "import tensorflow as tf\n",
        "import matplotlib.pyplot as plt\n",
        "import PIL\n",
        "import io\n",
        "import ipywidgets\n",
        "import time\n",
        "import anvil.server\n",
        "\n",
        "from IPython.display import display\n",
        "from ipywidgets import HBox, Image, HTML\n",
        "from collections import OrderedDict\n",
        "\n",
        "from PIL import Image\n",
        "from sklearn.preprocessing import normalize\n",
        "from tqdm.auto import tqdm"
      ],
      "metadata": {
        "id": "dRa96rZx-gBh"
      },
      "execution_count": null,
      "outputs": []
    },
    {
      "cell_type": "code",
      "source": [
        "DOGS_BREEDS = 120\n",
        "IMAGE_SIZE = (224, 224)\n",
        "BATCH_SIZE = 32\n",
        "\n",
        "ALL_FEATURES_IMAGES = []"
      ],
      "metadata": {
        "id": "wlJk-mZc-pyr"
      },
      "execution_count": null,
      "outputs": []
    },
    {
      "cell_type": "code",
      "source": [
        "#data loading\n",
        "BASE_DIR = \"/content/gdrive/Shareddrives/MIRCV\"\n",
        "IMAGES_DIR = \"/content/gdrive/MyDrive/MIRCV\"\n",
        "NOISE_DIR = \"/content/gdrive/Shareddrives/Dataset/mirflickr25k/mirflickr\"\n",
        "\n",
        "DOGS_IMAGES_DIRECTORIES_PATH = os.path.join(IMAGES_DIR, \"images/Images\")\n",
        "ALL_IMAGES_DIR = \"/content/gdrive/Shareddrives/MIRCV/All_Images\"\n",
        "QUERY_PATH = \"/content/gdrive/Shareddrives/Dataset/Query\"\n",
        "FEATURES_DIR = \"/content/gdrive/Shareddrives/Dataset/Features\""
      ],
      "metadata": {
        "id": "67yCx_IH-yGr"
      },
      "execution_count": null,
      "outputs": []
    },
    {
      "cell_type": "code",
      "source": [
        "def display_image(image_path, title='', txt=''):\n",
        "  \"\"\" Displays an image with optional title and text next to it using iPython\n",
        "  widgets (works in Jupyter/Colab environments).\n",
        "      \n",
        "  Args:\n",
        "    image_path (string): path to the image to show.\n",
        "    title (string): header text to show next to the image.\n",
        "    txt (string): text to show under the title header.\n",
        "  \"\"\"\n",
        "  print(str(image_path))\n",
        "  image_widget = ipywidgets.Image.from_file(image_path, width=200, height=100)\n",
        "  txt = txt.replace('\\n', '<br>')\n",
        "  text_widget = HTML('<p><b>{}</b></p><p>{}</p>'.format(title, txt))\n",
        "  widget = HBox([image_widget, text_widget])\n",
        "  display(widget)"
      ],
      "metadata": {
        "id": "4a3gZnJp-ywZ"
      },
      "execution_count": null,
      "outputs": []
    },
    {
      "cell_type": "code",
      "source": [
        "def take_features(path):\n",
        "  features_path = np.load(path, allow_pickle=True)\n",
        "  features = features_path['arr_0']\n",
        "  return features"
      ],
      "metadata": {
        "id": "hfscSVf0AAH6"
      },
      "execution_count": null,
      "outputs": []
    },
    {
      "cell_type": "markdown",
      "source": [
        "# **BRUTE FORCE**"
      ],
      "metadata": {
        "id": "9Usck2jBIb7c"
      }
    },
    {
      "cell_type": "code",
      "source": [
        "model = tf.keras.applications.densenet.DenseNet121(\n",
        "    weights='imagenet', input_tensor=None, input_shape=(224,224,3), \n",
        "    pooling='avg', include_top=False\n",
        ")\n",
        "\n",
        "model.summary()"
      ],
      "metadata": {
        "id": "whWArKI7-yq5"
      },
      "execution_count": null,
      "outputs": []
    },
    {
      "cell_type": "code",
      "source": [
        "#query extraction feature\n",
        "\n",
        "def extract_features_query(img):\n",
        "  query_features = []\n",
        "  image_path = os.path.join(QUERY_PATH, img)\n",
        "  image_pil = tf.keras.utils.load_img(image_path, target_size=IMAGE_SIZE, interpolation='bilinear')\n",
        "  image_pil = np.array(image_pil)\n",
        "  image_pil = image_pil.astype(np.float32)\n",
        "  image_np = tf.keras.applications.densenet.preprocess_input(image_pil)\n",
        "  image_np = np.expand_dims(image_np, axis=0)  # add batch dimension\n",
        "  image_feature_vector = model.predict(image_np)\n",
        "  feat_name = (img, image_feature_vector)\n",
        "  query_features.append(feat_name)\n",
        "\n",
        "  np.savez(\"/content/gdrive/Shareddrives/Dataset/Query/features_query.npz\", query_features)"
      ],
      "metadata": {
        "id": "j03EqjlKBMvg"
      },
      "execution_count": null,
      "outputs": []
    },
    {
      "cell_type": "code",
      "source": [
        "############################################################\n",
        "#q_features = features query; g = hash families (necessaria variabile globale)\n",
        "def query_execution():\n",
        "\n",
        "  result_euclidean = []\n",
        "\n",
        "  q_features = take_features(os.path.join(QUERY_PATH, \"features_query.npz\"))\n",
        "  q_name = q_features[0][0]\n",
        "  q_features = q_features[0][1]\n",
        "\n",
        "  features = take_features(os.path.join(FEATURES_DIR, \"features_NM_concatenate_predict.npz\"))\n",
        "\n",
        "  q_features = normalize(q_features, axis=1)\n",
        "  \n",
        "  for item in tqdm(features):\n",
        "    feat = item[1]\n",
        "    name = item[0]\n",
        "\n",
        "    feat = normalize(feat, axis=1)\n",
        "\n",
        "    dist = np.linalg.norm(feat - q_features, axis=1)\n",
        "\n",
        "    res = (np.double(dist), name)\n",
        "\n",
        "    result_euclidean.append(res)\n",
        "\n",
        "  ranking = sorted(result_euclidean)\n",
        "  \n",
        "  return ranking"
      ],
      "metadata": {
        "id": "t2VfvA1r_y6E"
      },
      "execution_count": null,
      "outputs": []
    },
    {
      "cell_type": "code",
      "source": [
        "def send_images_to_client(res):\n",
        "  result_rank = []\n",
        "  count = 1\n",
        "  for i in res:\n",
        "    name = i[1]\n",
        "    #display_image(os.path.join(ALL_IMAGES_DIR, name))\n",
        "    \n",
        "    result_image = Image.open(open(os.path.join(ALL_IMAGES_DIR, name), 'rb'))\n",
        "    #result_image = ipywidgets.Image.from_file(os.path.join(ALL_IMAGES_DIR, name), width=200, height=100)\n",
        "    \n",
        "    bs = io.BytesIO()\n",
        "    name = \"result_image\"\n",
        "    result_image.save(bs, format = \"JPEG\")\n",
        "    result_rank.append(anvil.BlobMedia(\"image/jpeg\", bs.getvalue(), name = name))\n",
        "    \n",
        "    if count == 10:\n",
        "      break\n",
        "    count = count + 1\n",
        "\n",
        "  return result_rank"
      ],
      "metadata": {
        "id": "RkYoyxa1BoOM"
      },
      "execution_count": null,
      "outputs": []
    },
    {
      "cell_type": "markdown",
      "source": [
        "# **LSH**"
      ],
      "metadata": {
        "id": "CZikA1aMIR5r"
      }
    },
    {
      "cell_type": "code",
      "source": [
        "model_finetuned = tf.keras.models.load_model('/content/gdrive/Shareddrives/MIRCV/Models/Fine_Tuning_Model6_Flatten_512120_LR0001')\n",
        "\n",
        "model = tf.keras.models.Model(inputs=model_finetuned.input, outputs=model_finetuned.get_layer('flatten').output)\n",
        "model.summary()"
      ],
      "metadata": {
        "id": "YG6CdFGFIXAj"
      },
      "execution_count": null,
      "outputs": []
    },
    {
      "cell_type": "code",
      "source": [
        "#query extraction feature\n",
        "\n",
        "def extract_features_query_finetuned(img):\n",
        "  query_features = []\n",
        "  image_path = os.path.join(QUERY_PATH, img)\n",
        "  image_pil = tf.keras.utils.load_img(image_path, target_size=IMAGE_SIZE, interpolation='bilinear')\n",
        "  image_pil = np.array(image_pil)\n",
        "  image_pil = image_pil.astype(np.float32)\n",
        "  image_np = tf.keras.applications.densenet.preprocess_input(image_pil)\n",
        "  image_np = np.expand_dims(image_np, axis=0)  # add batch dimension\n",
        "  image_feature_vector = model.predict(image_np)\n",
        "  feat_name = (img, image_feature_vector)\n",
        "  query_features.append(feat_name)\n",
        "\n",
        "  np.savez(\"/content/gdrive/Shareddrives/Dataset/Query/features_finetuned_query.npz\", query_features)"
      ],
      "metadata": {
        "id": "GrMlI-oBIhV8"
      },
      "execution_count": null,
      "outputs": []
    },
    {
      "cell_type": "code",
      "source": [
        "#funzione che inserisce la query nei corretti buckets per ogni hash family\n",
        "\n",
        "def insert_finetuned_query(p, g, w = 4):\n",
        "  result = []\n",
        "  g_dim = 1     #numero hashfamily per creare cartella relativa\n",
        "  for hash_family in g:\n",
        "    inserted_object = ''\n",
        "    for hash_function in hash_family:\n",
        "      prodotto = np.dot(p,hash_function[0])  #p*x\n",
        "      somma = prodotto + hash_function[1]    #p*x + b\n",
        "      divisione = somma / w             #(p*x + b)/w\n",
        "      inserted_object=inserted_object+str(np.transpose(np.trunc(divisione)).astype(int))  #creao la stringa nome con tutti i buckets\n",
        "    inserted_object = str(g_dim) + \"/\" + inserted_object\n",
        "    result.append(inserted_object)\n",
        "\n",
        "    g_dim = g_dim + 1   #incremento il numero per inserire i dati nelle altre hashfamilies\n",
        "  return result"
      ],
      "metadata": {
        "id": "v-YXt8NFJKF1"
      },
      "execution_count": null,
      "outputs": []
    },
    {
      "cell_type": "code",
      "source": [
        "############################################################\n",
        "#q_features = features query; g = hash families (necessaria variabile globale)\n",
        "def query_finetuned_execution(g_dim, h_dim, q_features):\n",
        "\n",
        "  path_hash_functions = \"/content/gdrive/Shareddrives/Dataset/HashFamilies/hashfunctionsG\" + str(g_dim) + \"H\" + str(h_dim) + \".npy\"\n",
        "  path_bucket = \"/content/gdrive/Shareddrives/Dataset/Buckets/FinetunedBuckets/bucketsG\" + str(g_dim) + \"H\" + str(h_dim)\n",
        "  \n",
        "  result = []\n",
        "  \n",
        "  bucketsaved=np.load(path_hash_functions, allow_pickle=True)\n",
        "  \n",
        "  buckets_query = insert_finetuned_query(q_features[0][1], bucketsaved) #calcolo i buckets della nostra query\n",
        "\n",
        "  for b in buckets_query:\n",
        "    if os.path.exists(os.path.join(path_bucket, b)):\n",
        "      file_hash=open(os.path.join(path_bucket, b),'r')\n",
        "      r = file_hash.readlines()                      \n",
        "      file_hash.close()\n",
        "      result.append(r)\n",
        "\n",
        "  return result"
      ],
      "metadata": {
        "id": "y_a3HWxLJOWs"
      },
      "execution_count": null,
      "outputs": []
    },
    {
      "cell_type": "code",
      "source": [
        "#funzione per ordinare i risultati della query dal più \"vicino\" al più lontano\n",
        "\n",
        "def make_finetuned_ranking(q_features, features):\n",
        "\n",
        "  result_euclidean = []\n",
        "  \n",
        "  q_name = q_features[0][0]\n",
        "  q_features = q_features[0][1]\n",
        "  \n",
        "  q_features = normalize(q_features, axis=1)\n",
        "\n",
        "  for item in tqdm(features):\n",
        "    feat = item[1]\n",
        "    name = item[0]\n",
        "\n",
        "    feat = normalize(feat, axis=1)\n",
        "\n",
        "    dist = np.linalg.norm(feat - q_features, axis=1)\n",
        "\n",
        "    res = (np.double(dist), name)\n",
        "\n",
        "    result_euclidean.append(res)\n",
        "\n",
        "  ranking = sorted(result_euclidean)\n",
        "  \n",
        "  return ranking"
      ],
      "metadata": {
        "id": "-yGTyMaRJflt"
      },
      "execution_count": null,
      "outputs": []
    },
    {
      "cell_type": "code",
      "source": [
        "#funzione per eseguire la query e stampare i risultati\n",
        "\n",
        "def search_and_print_finetuned(g_dim,h_dim,image_name):\n",
        "  print(\"image name query: \" + str(image_name))\n",
        "  #q_features=extract_features_query(image_name)\n",
        "  q_features = take_features(os.path.join(QUERY_PATH, \"features_finetuned_query.npz\"))\n",
        "  features=take_features(os.path.join(FEATURES_DIR, \"features_finetuned_concatenate_predict.npz\"))\n",
        "\n",
        "  starting_time = time.time()\n",
        "  query_result = query_finetuned_execution(g_dim, h_dim, q_features)\n",
        "  ending_time = time.time()\n",
        "\n",
        "  query_execution_time = ending_time - starting_time\n",
        "  print(\"Time for the query execution: \" + str(query_execution_time))\n",
        "\n",
        "  query_result_splitted = []\n",
        "  features_results=[]\n",
        "\n",
        "  for r in query_result:\n",
        "    for name in r:\n",
        "      query_result_splitted.append(name.split('\\n')[0])\n",
        "\n",
        "  image_no_duplicates= list(OrderedDict.fromkeys(query_result_splitted))\n",
        "  \n",
        "  for f in features:\n",
        "    for s in image_no_duplicates:\n",
        "      if str(f[0])==s:\n",
        "        features_results.append(f)\n",
        "\n",
        "  images_to_print = make_finetuned_ranking(q_features, features_results)\n",
        "\n",
        "  return images_to_print"
      ],
      "metadata": {
        "id": "OIK6cxGSJ_m-"
      },
      "execution_count": null,
      "outputs": []
    },
    {
      "cell_type": "code",
      "source": [
        "def send_images_to_client_finetuned(res):\n",
        "  result_rank = []\n",
        "  count = 1\n",
        "  for i in res:\n",
        "    name = i[1]\n",
        "    #display_image(os.path.join(ALL_IMAGES_DIR, name))\n",
        "    \n",
        "    result_image = Image.open(open(os.path.join(ALL_IMAGES_DIR, name), 'rb'))\n",
        "    #result_image = ipywidgets.Image.from_file(os.path.join(ALL_IMAGES_DIR, name), width=200, height=100)\n",
        "    \n",
        "    bs = io.BytesIO()\n",
        "    name = \"result_image\"\n",
        "    result_image.save(bs, format = \"JPEG\")\n",
        "    result_rank.append(anvil.BlobMedia(\"image/jpeg\", bs.getvalue(), name = name))\n",
        "    \n",
        "    if count == 10:\n",
        "      break\n",
        "    count = count + 1\n",
        "\n",
        "  return result_rank"
      ],
      "metadata": {
        "id": "vadrgY3BJh9V"
      },
      "execution_count": null,
      "outputs": []
    },
    {
      "cell_type": "markdown",
      "source": [
        "# **SERVER LAUNCH**"
      ],
      "metadata": {
        "id": "bkMf4tEUILeU"
      }
    },
    {
      "cell_type": "code",
      "source": [
        "#anvil.server.connect(\"REZ4P23PNYAA3PDVGAGWE74S-K44TCW6TYVNHOTGF\") #gaetano\n",
        "#anvil.server.connect(\"UETT2ZYAYVLZHOZE5SUFOVGG-GKQWYSJZOMLZMMVZ\") #ross\n",
        "anvil.server.connect(\"APYM2HWOGSI6BTH4XYVWSAV2-XSCRAS7EJA7HUPIO\") #Giacomo"
      ],
      "metadata": {
        "id": "0m8uM_k83pcH",
        "colab": {
          "base_uri": "https://localhost:8080/"
        },
        "outputId": "9247b045-8150-4b41-ccbb-54ad07a14730"
      },
      "execution_count": null,
      "outputs": [
        {
          "output_type": "stream",
          "name": "stdout",
          "text": [
            "Connecting to wss://anvil.works/uplink\n",
            "Anvil websocket open\n",
            "Connected to \"Default environment\" as SERVER\n"
          ]
        }
      ]
    },
    {
      "cell_type": "code",
      "source": [
        "@anvil.server.callable\n",
        "def process_image(image, image_name):\n",
        "\n",
        "  image_object = Image.open(io.BytesIO(image.get_bytes()))\n",
        "\n",
        "  image_object.save(os.path.join(QUERY_PATH, image_name))\n",
        "  \n",
        "  print(\"Extracting query features...\")\n",
        "  extract_features_query(image_name)\n",
        "  #extract_features_query_finetuned(image_name)\n",
        "  print(\"Query features extracted!\")\n",
        "\n",
        "  query_result = query_execution()\n",
        "  #query_result = search_and_print_finetuned(8, 2, image_name)\n",
        "  print(\"Query executed!\")\n",
        "\n",
        "  result_to_be_sent = send_images_to_client(query_result)\n",
        "  #result_to_be_sent = send_images_to_client_finetuned(query_result)\n",
        "  print(\"Results ready!\")\n",
        "\n",
        "  os.remove(os.path.join(QUERY_PATH, image_name))\n",
        "  os.remove(os.path.join(QUERY_PATH, \"features_query.npz\"))\n",
        "  print(\"Query directory cleaned!\")\n",
        "\n",
        "  return result_to_be_sent"
      ],
      "metadata": {
        "id": "J3Qujolwj5y7"
      },
      "execution_count": null,
      "outputs": []
    },
    {
      "cell_type": "code",
      "source": [
        "if __name__ == \"__main__\":\n",
        "  try:\n",
        "    anvil.server.wait_forever()\n",
        "  except KeyboardInterrupt:\n",
        "    print(\"Bona cisi e se un cisi bona\")\n"
      ],
      "metadata": {
        "id": "e94vj60CUN8T",
        "colab": {
          "base_uri": "https://localhost:8080/",
          "height": 368,
          "referenced_widgets": [
            "7c94b0f87abc42eab24e6e54e62c3c64",
            "d826558a79054a0fbf8d9d1f2f7f11dd",
            "b791d04b4cc7469fa4f67b49678a16a4",
            "b59e927bbe8a4c7488a2c82b02998b80",
            "84d0a41af5c441c880b0a39191a15f31",
            "4ec63280b3914dc9a8a310b1e71bccc0",
            "2a2a14811e054ffb8496975fb4f1acd2",
            "dccd1815e7cc4e0a9f700a543aa1a000",
            "9859082993844c728025f32863319dcb",
            "bcc5e372302642558eef07a95cb06e01",
            "638a344d30ce4fffb7e675b01e4d1d31",
            "f7db65ff9af240a8b3d4d6d7fb0fe3d0",
            "6f0057bc90774a22a963bb0f6d4b3b21",
            "b30f1a4249ef41609f984a8147276788",
            "c0eff1dca85b42f08b8bb1c130ab8449",
            "88c00c137b164519b6efe83b09f5e027",
            "91dfe7d7f8aa44bbbbf12ce3d09f152f",
            "91d4dee542f04eb487ed687fd957572d",
            "ddaaf701216d497294f8a6cf2e5f01e1",
            "93a3ad80396a4f31907ca95712bc09dd",
            "0ad0a0a126594d68af47875f5b30bbbe",
            "0781f50cd71741179695068f29ff9fbb"
          ]
        },
        "outputId": "2e392746-8adb-49b8-9eac-e7883dd5b197"
      },
      "execution_count": null,
      "outputs": [
        {
          "output_type": "stream",
          "name": "stdout",
          "text": [
            "Extracting query features...\n"
          ]
        },
        {
          "output_type": "stream",
          "name": "stderr",
          "text": [
            "/usr/local/lib/python3.7/dist-packages/numpy/lib/npyio.py:719: VisibleDeprecationWarning: Creating an ndarray from ragged nested sequences (which is a list-or-tuple of lists-or-tuples-or ndarrays with different lengths or shapes) is deprecated. If you meant to do this, you must specify 'dtype=object' when creating the ndarray.\n",
            "  val = np.asanyarray(val)\n"
          ]
        },
        {
          "output_type": "stream",
          "name": "stdout",
          "text": [
            "Query features extracted!\n"
          ]
        },
        {
          "output_type": "display_data",
          "data": {
            "text/plain": [
              "  0%|          | 0/44580 [00:00<?, ?it/s]"
            ],
            "application/vnd.jupyter.widget-view+json": {
              "version_major": 2,
              "version_minor": 0,
              "model_id": "7c94b0f87abc42eab24e6e54e62c3c64"
            }
          },
          "metadata": {}
        },
        {
          "output_type": "stream",
          "name": "stdout",
          "text": [
            "Query executed!\n",
            "Results ready!\n",
            "Query directory cleaned!\n",
            "Extracting query features...\n"
          ]
        },
        {
          "output_type": "stream",
          "name": "stderr",
          "text": [
            "/usr/local/lib/python3.7/dist-packages/numpy/lib/npyio.py:719: VisibleDeprecationWarning: Creating an ndarray from ragged nested sequences (which is a list-or-tuple of lists-or-tuples-or ndarrays with different lengths or shapes) is deprecated. If you meant to do this, you must specify 'dtype=object' when creating the ndarray.\n",
            "  val = np.asanyarray(val)\n"
          ]
        },
        {
          "output_type": "stream",
          "name": "stdout",
          "text": [
            "Query features extracted!\n"
          ]
        },
        {
          "output_type": "display_data",
          "data": {
            "text/plain": [
              "  0%|          | 0/44580 [00:00<?, ?it/s]"
            ],
            "application/vnd.jupyter.widget-view+json": {
              "version_major": 2,
              "version_minor": 0,
              "model_id": "f7db65ff9af240a8b3d4d6d7fb0fe3d0"
            }
          },
          "metadata": {}
        },
        {
          "output_type": "stream",
          "name": "stdout",
          "text": [
            "Query executed!\n",
            "Results ready!\n",
            "Query directory cleaned!\n",
            "Bona cisi e se un cisi bona\n"
          ]
        }
      ]
    },
    {
      "cell_type": "code",
      "source": [
        ""
      ],
      "metadata": {
        "id": "EHBkx19tERiC"
      },
      "execution_count": null,
      "outputs": []
    }
  ]
}