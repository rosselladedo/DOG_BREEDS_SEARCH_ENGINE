{
  "cells": [
    {
      "cell_type": "markdown",
      "metadata": {
        "id": "view-in-github",
        "colab_type": "text"
      },
      "source": [
        "<a href=\"https://colab.research.google.com/github/rosselladedo/DOG_BREEDS_SEARCH_ENGINE/blob/main/FeatureExtraction.ipynb\" target=\"_parent\"><img src=\"https://colab.research.google.com/assets/colab-badge.svg\" alt=\"Open In Colab\"/></a>"
      ]
    },
    {
      "cell_type": "markdown",
      "metadata": {
        "id": "fwkVicG8XI5p"
      },
      "source": [
        "# **CONNECT TO GDRIVE AND IMPORTS**"
      ]
    },
    {
      "cell_type": "code",
      "execution_count": null,
      "metadata": {
        "id": "mo6a1EWBE_FB",
        "colab": {
          "base_uri": "https://localhost:8080/"
        },
        "outputId": "e2652f5b-01fb-4efb-b976-175cdfb7548a"
      },
      "outputs": [
        {
          "output_type": "stream",
          "name": "stdout",
          "text": [
            "Mounted at /content/gdrive/\n"
          ]
        }
      ],
      "source": [
        "from google.colab import drive\n",
        "drive.mount('/content/gdrive/', force_remount=True)"
      ]
    },
    {
      "cell_type": "code",
      "execution_count": null,
      "metadata": {
        "id": "Qf23HO8xfeZR"
      },
      "outputs": [],
      "source": [
        "import numpy as np\n",
        "import time\n",
        "import itertools\n",
        "import os\n",
        "import tensorflow as tf\n",
        "import tensorflow_hub as hub\n",
        "import shutil\n",
        "import PIL\n",
        "import tqdm\n",
        "\n",
        "from tqdm import tqdm\n",
        "from random import random\n",
        "from ipywidgets import Image\n",
        "from numpy.linalg import norm\n",
        "from IPython.display import display\n",
        "from keras.models import Model\n",
        "from sklearn.metrics import classification_report\n",
        "\n",
        "# tensorflow version 2.4.0\n",
        "from tensorflow import keras"
      ]
    },
    {
      "cell_type": "markdown",
      "metadata": {
        "id": "UE4cT4y4pGVg"
      },
      "source": [
        "# **USEFULL VARIABLES**"
      ]
    },
    {
      "cell_type": "code",
      "execution_count": null,
      "metadata": {
        "id": "6Y67ITkQo6SB"
      },
      "outputs": [],
      "source": [
        "DOGS_BREEDS = 120\n",
        "IMAGE_SIZE = (224, 224)\n",
        "BATCH_SIZE = 32"
      ]
    },
    {
      "cell_type": "code",
      "execution_count": null,
      "metadata": {
        "id": "iXx9KRGKbApo"
      },
      "outputs": [],
      "source": [
        "#data directories\n",
        "BASE_DIR = \"/content/gdrive/Shareddrives/MIRCV\"\n",
        "IMAGES_DIR = \"/content/gdrive/MyDrive/MIRCV\"\n",
        "\n",
        "DOGS_IMAGES_DIRECTORIES_PATH = os.path.join(IMAGES_DIR, \"images/Images\")\n",
        "\n",
        "ALL_IMAGES_DIR = \"/content/gdrive/Shareddrives/MIRCV/All_Images\"\n",
        "NOISE_DIR = \"/content/gdrive/Shareddrives/Dataset/mirflickr25k/mirflickr\"\n",
        "TEST_PATH = os.path.join(BASE_DIR, \"TestSet\")"
      ]
    },
    {
      "cell_type": "markdown",
      "metadata": {
        "id": "T4z_2nx-pN9J"
      },
      "source": [
        "# **IMPORT KAGGLE'S TOKEN**\n",
        "\n"
      ]
    },
    {
      "cell_type": "code",
      "execution_count": null,
      "metadata": {
        "colab": {
          "base_uri": "https://localhost:8080/",
          "height": 73,
          "resources": {
            "http://localhost:8080/nbextensions/google.colab/files.js": {
              "data": "Ly8gQ29weXJpZ2h0IDIwMTcgR29vZ2xlIExMQwovLwovLyBMaWNlbnNlZCB1bmRlciB0aGUgQXBhY2hlIExpY2Vuc2UsIFZlcnNpb24gMi4wICh0aGUgIkxpY2Vuc2UiKTsKLy8geW91IG1heSBub3QgdXNlIHRoaXMgZmlsZSBleGNlcHQgaW4gY29tcGxpYW5jZSB3aXRoIHRoZSBMaWNlbnNlLgovLyBZb3UgbWF5IG9idGFpbiBhIGNvcHkgb2YgdGhlIExpY2Vuc2UgYXQKLy8KLy8gICAgICBodHRwOi8vd3d3LmFwYWNoZS5vcmcvbGljZW5zZXMvTElDRU5TRS0yLjAKLy8KLy8gVW5sZXNzIHJlcXVpcmVkIGJ5IGFwcGxpY2FibGUgbGF3IG9yIGFncmVlZCB0byBpbiB3cml0aW5nLCBzb2Z0d2FyZQovLyBkaXN0cmlidXRlZCB1bmRlciB0aGUgTGljZW5zZSBpcyBkaXN0cmlidXRlZCBvbiBhbiAiQVMgSVMiIEJBU0lTLAovLyBXSVRIT1VUIFdBUlJBTlRJRVMgT1IgQ09ORElUSU9OUyBPRiBBTlkgS0lORCwgZWl0aGVyIGV4cHJlc3Mgb3IgaW1wbGllZC4KLy8gU2VlIHRoZSBMaWNlbnNlIGZvciB0aGUgc3BlY2lmaWMgbGFuZ3VhZ2UgZ292ZXJuaW5nIHBlcm1pc3Npb25zIGFuZAovLyBsaW1pdGF0aW9ucyB1bmRlciB0aGUgTGljZW5zZS4KCi8qKgogKiBAZmlsZW92ZXJ2aWV3IEhlbHBlcnMgZm9yIGdvb2dsZS5jb2xhYiBQeXRob24gbW9kdWxlLgogKi8KKGZ1bmN0aW9uKHNjb3BlKSB7CmZ1bmN0aW9uIHNwYW4odGV4dCwgc3R5bGVBdHRyaWJ1dGVzID0ge30pIHsKICBjb25zdCBlbGVtZW50ID0gZG9jdW1lbnQuY3JlYXRlRWxlbWVudCgnc3BhbicpOwogIGVsZW1lbnQudGV4dENvbnRlbnQgPSB0ZXh0OwogIGZvciAoY29uc3Qga2V5IG9mIE9iamVjdC5rZXlzKHN0eWxlQXR0cmlidXRlcykpIHsKICAgIGVsZW1lbnQuc3R5bGVba2V5XSA9IHN0eWxlQXR0cmlidXRlc1trZXldOwogIH0KICByZXR1cm4gZWxlbWVudDsKfQoKLy8gTWF4IG51bWJlciBvZiBieXRlcyB3aGljaCB3aWxsIGJlIHVwbG9hZGVkIGF0IGEgdGltZS4KY29uc3QgTUFYX1BBWUxPQURfU0laRSA9IDEwMCAqIDEwMjQ7CgpmdW5jdGlvbiBfdXBsb2FkRmlsZXMoaW5wdXRJZCwgb3V0cHV0SWQpIHsKICBjb25zdCBzdGVwcyA9IHVwbG9hZEZpbGVzU3RlcChpbnB1dElkLCBvdXRwdXRJZCk7CiAgY29uc3Qgb3V0cHV0RWxlbWVudCA9IGRvY3VtZW50LmdldEVsZW1lbnRCeUlkKG91dHB1dElkKTsKICAvLyBDYWNoZSBzdGVwcyBvbiB0aGUgb3V0cHV0RWxlbWVudCB0byBtYWtlIGl0IGF2YWlsYWJsZSBmb3IgdGhlIG5leHQgY2FsbAogIC8vIHRvIHVwbG9hZEZpbGVzQ29udGludWUgZnJvbSBQeXRob24uCiAgb3V0cHV0RWxlbWVudC5zdGVwcyA9IHN0ZXBzOwoKICByZXR1cm4gX3VwbG9hZEZpbGVzQ29udGludWUob3V0cHV0SWQpOwp9CgovLyBUaGlzIGlzIHJvdWdobHkgYW4gYXN5bmMgZ2VuZXJhdG9yIChub3Qgc3VwcG9ydGVkIGluIHRoZSBicm93c2VyIHlldCksCi8vIHdoZXJlIHRoZXJlIGFyZSBtdWx0aXBsZSBhc3luY2hyb25vdXMgc3RlcHMgYW5kIHRoZSBQeXRob24gc2lkZSBpcyBnb2luZwovLyB0byBwb2xsIGZvciBjb21wbGV0aW9uIG9mIGVhY2ggc3RlcC4KLy8gVGhpcyB1c2VzIGEgUHJvbWlzZSB0byBibG9jayB0aGUgcHl0aG9uIHNpZGUgb24gY29tcGxldGlvbiBvZiBlYWNoIHN0ZXAsCi8vIHRoZW4gcGFzc2VzIHRoZSByZXN1bHQgb2YgdGhlIHByZXZpb3VzIHN0ZXAgYXMgdGhlIGlucHV0IHRvIHRoZSBuZXh0IHN0ZXAuCmZ1bmN0aW9uIF91cGxvYWRGaWxlc0NvbnRpbnVlKG91dHB1dElkKSB7CiAgY29uc3Qgb3V0cHV0RWxlbWVudCA9IGRvY3VtZW50LmdldEVsZW1lbnRCeUlkKG91dHB1dElkKTsKICBjb25zdCBzdGVwcyA9IG91dHB1dEVsZW1lbnQuc3RlcHM7CgogIGNvbnN0IG5leHQgPSBzdGVwcy5uZXh0KG91dHB1dEVsZW1lbnQubGFzdFByb21pc2VWYWx1ZSk7CiAgcmV0dXJuIFByb21pc2UucmVzb2x2ZShuZXh0LnZhbHVlLnByb21pc2UpLnRoZW4oKHZhbHVlKSA9PiB7CiAgICAvLyBDYWNoZSB0aGUgbGFzdCBwcm9taXNlIHZhbHVlIHRvIG1ha2UgaXQgYXZhaWxhYmxlIHRvIHRoZSBuZXh0CiAgICAvLyBzdGVwIG9mIHRoZSBnZW5lcmF0b3IuCiAgICBvdXRwdXRFbGVtZW50Lmxhc3RQcm9taXNlVmFsdWUgPSB2YWx1ZTsKICAgIHJldHVybiBuZXh0LnZhbHVlLnJlc3BvbnNlOwogIH0pOwp9CgovKioKICogR2VuZXJhdG9yIGZ1bmN0aW9uIHdoaWNoIGlzIGNhbGxlZCBiZXR3ZWVuIGVhY2ggYXN5bmMgc3RlcCBvZiB0aGUgdXBsb2FkCiAqIHByb2Nlc3MuCiAqIEBwYXJhbSB7c3RyaW5nfSBpbnB1dElkIEVsZW1lbnQgSUQgb2YgdGhlIGlucHV0IGZpbGUgcGlja2VyIGVsZW1lbnQuCiAqIEBwYXJhbSB7c3RyaW5nfSBvdXRwdXRJZCBFbGVtZW50IElEIG9mIHRoZSBvdXRwdXQgZGlzcGxheS4KICogQHJldHVybiB7IUl0ZXJhYmxlPCFPYmplY3Q+fSBJdGVyYWJsZSBvZiBuZXh0IHN0ZXBzLgogKi8KZnVuY3Rpb24qIHVwbG9hZEZpbGVzU3RlcChpbnB1dElkLCBvdXRwdXRJZCkgewogIGNvbnN0IGlucHV0RWxlbWVudCA9IGRvY3VtZW50LmdldEVsZW1lbnRCeUlkKGlucHV0SWQpOwogIGlucHV0RWxlbWVudC5kaXNhYmxlZCA9IGZhbHNlOwoKICBjb25zdCBvdXRwdXRFbGVtZW50ID0gZG9jdW1lbnQuZ2V0RWxlbWVudEJ5SWQob3V0cHV0SWQpOwogIG91dHB1dEVsZW1lbnQuaW5uZXJIVE1MID0gJyc7CgogIGNvbnN0IHBpY2tlZFByb21pc2UgPSBuZXcgUHJvbWlzZSgocmVzb2x2ZSkgPT4gewogICAgaW5wdXRFbGVtZW50LmFkZEV2ZW50TGlzdGVuZXIoJ2NoYW5nZScsIChlKSA9PiB7CiAgICAgIHJlc29sdmUoZS50YXJnZXQuZmlsZXMpOwogICAgfSk7CiAgfSk7CgogIGNvbnN0IGNhbmNlbCA9IGRvY3VtZW50LmNyZWF0ZUVsZW1lbnQoJ2J1dHRvbicpOwogIGlucHV0RWxlbWVudC5wYXJlbnRFbGVtZW50LmFwcGVuZENoaWxkKGNhbmNlbCk7CiAgY2FuY2VsLnRleHRDb250ZW50ID0gJ0NhbmNlbCB1cGxvYWQnOwogIGNvbnN0IGNhbmNlbFByb21pc2UgPSBuZXcgUHJvbWlzZSgocmVzb2x2ZSkgPT4gewogICAgY2FuY2VsLm9uY2xpY2sgPSAoKSA9PiB7CiAgICAgIHJlc29sdmUobnVsbCk7CiAgICB9OwogIH0pOwoKICAvLyBXYWl0IGZvciB0aGUgdXNlciB0byBwaWNrIHRoZSBmaWxlcy4KICBjb25zdCBmaWxlcyA9IHlpZWxkIHsKICAgIHByb21pc2U6IFByb21pc2UucmFjZShbcGlja2VkUHJvbWlzZSwgY2FuY2VsUHJvbWlzZV0pLAogICAgcmVzcG9uc2U6IHsKICAgICAgYWN0aW9uOiAnc3RhcnRpbmcnLAogICAgfQogIH07CgogIGNhbmNlbC5yZW1vdmUoKTsKCiAgLy8gRGlzYWJsZSB0aGUgaW5wdXQgZWxlbWVudCBzaW5jZSBmdXJ0aGVyIHBpY2tzIGFyZSBub3QgYWxsb3dlZC4KICBpbnB1dEVsZW1lbnQuZGlzYWJsZWQgPSB0cnVlOwoKICBpZiAoIWZpbGVzKSB7CiAgICByZXR1cm4gewogICAgICByZXNwb25zZTogewogICAgICAgIGFjdGlvbjogJ2NvbXBsZXRlJywKICAgICAgfQogICAgfTsKICB9CgogIGZvciAoY29uc3QgZmlsZSBvZiBmaWxlcykgewogICAgY29uc3QgbGkgPSBkb2N1bWVudC5jcmVhdGVFbGVtZW50KCdsaScpOwogICAgbGkuYXBwZW5kKHNwYW4oZmlsZS5uYW1lLCB7Zm9udFdlaWdodDogJ2JvbGQnfSkpOwogICAgbGkuYXBwZW5kKHNwYW4oCiAgICAgICAgYCgke2ZpbGUudHlwZSB8fCAnbi9hJ30pIC0gJHtmaWxlLnNpemV9IGJ5dGVzLCBgICsKICAgICAgICBgbGFzdCBtb2RpZmllZDogJHsKICAgICAgICAgICAgZmlsZS5sYXN0TW9kaWZpZWREYXRlID8gZmlsZS5sYXN0TW9kaWZpZWREYXRlLnRvTG9jYWxlRGF0ZVN0cmluZygpIDoKICAgICAgICAgICAgICAgICAgICAgICAgICAgICAgICAgICAgJ24vYSd9IC0gYCkpOwogICAgY29uc3QgcGVyY2VudCA9IHNwYW4oJzAlIGRvbmUnKTsKICAgIGxpLmFwcGVuZENoaWxkKHBlcmNlbnQpOwoKICAgIG91dHB1dEVsZW1lbnQuYXBwZW5kQ2hpbGQobGkpOwoKICAgIGNvbnN0IGZpbGVEYXRhUHJvbWlzZSA9IG5ldyBQcm9taXNlKChyZXNvbHZlKSA9PiB7CiAgICAgIGNvbnN0IHJlYWRlciA9IG5ldyBGaWxlUmVhZGVyKCk7CiAgICAgIHJlYWRlci5vbmxvYWQgPSAoZSkgPT4gewogICAgICAgIHJlc29sdmUoZS50YXJnZXQucmVzdWx0KTsKICAgICAgfTsKICAgICAgcmVhZGVyLnJlYWRBc0FycmF5QnVmZmVyKGZpbGUpOwogICAgfSk7CiAgICAvLyBXYWl0IGZvciB0aGUgZGF0YSB0byBiZSByZWFkeS4KICAgIGxldCBmaWxlRGF0YSA9IHlpZWxkIHsKICAgICAgcHJvbWlzZTogZmlsZURhdGFQcm9taXNlLAogICAgICByZXNwb25zZTogewogICAgICAgIGFjdGlvbjogJ2NvbnRpbnVlJywKICAgICAgfQogICAgfTsKCiAgICAvLyBVc2UgYSBjaHVua2VkIHNlbmRpbmcgdG8gYXZvaWQgbWVzc2FnZSBzaXplIGxpbWl0cy4gU2VlIGIvNjIxMTU2NjAuCiAgICBsZXQgcG9zaXRpb24gPSAwOwogICAgZG8gewogICAgICBjb25zdCBsZW5ndGggPSBNYXRoLm1pbihmaWxlRGF0YS5ieXRlTGVuZ3RoIC0gcG9zaXRpb24sIE1BWF9QQVlMT0FEX1NJWkUpOwogICAgICBjb25zdCBjaHVuayA9IG5ldyBVaW50OEFycmF5KGZpbGVEYXRhLCBwb3NpdGlvbiwgbGVuZ3RoKTsKICAgICAgcG9zaXRpb24gKz0gbGVuZ3RoOwoKICAgICAgY29uc3QgYmFzZTY0ID0gYnRvYShTdHJpbmcuZnJvbUNoYXJDb2RlLmFwcGx5KG51bGwsIGNodW5rKSk7CiAgICAgIHlpZWxkIHsKICAgICAgICByZXNwb25zZTogewogICAgICAgICAgYWN0aW9uOiAnYXBwZW5kJywKICAgICAgICAgIGZpbGU6IGZpbGUubmFtZSwKICAgICAgICAgIGRhdGE6IGJhc2U2NCwKICAgICAgICB9LAogICAgICB9OwoKICAgICAgbGV0IHBlcmNlbnREb25lID0gZmlsZURhdGEuYnl0ZUxlbmd0aCA9PT0gMCA/CiAgICAgICAgICAxMDAgOgogICAgICAgICAgTWF0aC5yb3VuZCgocG9zaXRpb24gLyBmaWxlRGF0YS5ieXRlTGVuZ3RoKSAqIDEwMCk7CiAgICAgIHBlcmNlbnQudGV4dENvbnRlbnQgPSBgJHtwZXJjZW50RG9uZX0lIGRvbmVgOwoKICAgIH0gd2hpbGUgKHBvc2l0aW9uIDwgZmlsZURhdGEuYnl0ZUxlbmd0aCk7CiAgfQoKICAvLyBBbGwgZG9uZS4KICB5aWVsZCB7CiAgICByZXNwb25zZTogewogICAgICBhY3Rpb246ICdjb21wbGV0ZScsCiAgICB9CiAgfTsKfQoKc2NvcGUuZ29vZ2xlID0gc2NvcGUuZ29vZ2xlIHx8IHt9OwpzY29wZS5nb29nbGUuY29sYWIgPSBzY29wZS5nb29nbGUuY29sYWIgfHwge307CnNjb3BlLmdvb2dsZS5jb2xhYi5fZmlsZXMgPSB7CiAgX3VwbG9hZEZpbGVzLAogIF91cGxvYWRGaWxlc0NvbnRpbnVlLAp9Owp9KShzZWxmKTsK",
              "headers": [
                [
                  "content-type",
                  "application/javascript"
                ]
              ],
              "ok": true,
              "status": 200,
              "status_text": ""
            }
          }
        },
        "id": "OIDc-9DPDNzu",
        "outputId": "710ce5b0-1e6f-48e0-fc02-b09a3dec0b01"
      },
      "outputs": [
        {
          "data": {
            "text/html": [
              "\n",
              "     <input type=\"file\" id=\"files-e692b744-dcf8-4729-8fbb-84cdfa20e07d\" name=\"files[]\" multiple disabled\n",
              "        style=\"border:none\" />\n",
              "     <output id=\"result-e692b744-dcf8-4729-8fbb-84cdfa20e07d\">\n",
              "      Upload widget is only available when the cell has been executed in the\n",
              "      current browser session. Please rerun this cell to enable.\n",
              "      </output>\n",
              "      <script src=\"/nbextensions/google.colab/files.js\"></script> "
            ],
            "text/plain": [
              "<IPython.core.display.HTML object>"
            ]
          },
          "metadata": {},
          "output_type": "display_data"
        },
        {
          "name": "stdout",
          "output_type": "stream",
          "text": [
            "Saving kaggle.json to kaggle.json\n"
          ]
        }
      ],
      "source": [
        "###### ESEGUIRE SOLO UNA VOLTA ############\n",
        "\n",
        "'''\n",
        "! pip install -q kaggle\n",
        "\n",
        "from google.colab import files\n",
        "_ = files.upload()\n",
        "\n",
        "! mkdir -p ~/.kaggle\n",
        "! cp kaggle.json ~/.kaggle/\n",
        "! chmod 600 ~/.kaggle/kaggle.json\n",
        "\n",
        "'''"
      ]
    },
    {
      "cell_type": "markdown",
      "source": [
        "# **EXTRACT IMAGES**"
      ],
      "metadata": {
        "id": "0UqMKzFfR0HY"
      }
    },
    {
      "cell_type": "code",
      "execution_count": null,
      "metadata": {
        "id": "p0aIYRT5c_pR",
        "colab": {
          "base_uri": "https://localhost:8080/"
        },
        "outputId": "b24f245c-dcde-44a9-e7a2-a4e7e30c10ba"
      },
      "outputs": [
        {
          "output_type": "stream",
          "name": "stdout",
          "text": [
            "Archive:  /content/gdrive/Shareddrives/MIRCV/mirflickr25k.zip\n"
          ]
        }
      ],
      "source": [
        "#upload the distractor on the drive manually\n",
        "! unzip /content/gdrive/Shareddrives/Dataset/mirflickr25k.zip -d /content/gdrive/Shareddrives/Dataset"
      ]
    },
    {
      "cell_type": "code",
      "execution_count": null,
      "metadata": {
        "colab": {
          "base_uri": "https://localhost:8080/"
        },
        "id": "nmmPds8zOamU",
        "outputId": "3272a132-17a0-462f-b2be-1c9dd1bb34e8"
      },
      "outputs": [
        {
          "name": "stdout",
          "output_type": "stream",
          "text": [
            "Downloading stanford-dogs-dataset.zip to /content/gdrive/Shareddrives/MIRCV\n",
            "100% 748M/750M [00:06<00:00, 118MB/s]\n",
            "100% 750M/750M [00:06<00:00, 119MB/s]\n"
          ]
        }
      ],
      "source": [
        "###### ESEGUIRE SOLO UNA VOLTA ############\n",
        "'''\n",
        "\n",
        "! kaggle datasets download -d jessicali9530/stanford-dogs-dataset -p /content/gdrive/Shareddrives/MIRCV\n",
        "\n",
        "'''"
      ]
    },
    {
      "cell_type": "code",
      "execution_count": null,
      "metadata": {
        "id": "vcDwBVskepwD"
      },
      "outputs": [],
      "source": [
        "###### ESEGUIRE SOLO UNA VOLTA ############\n",
        "\n",
        "zip_path = '/content/gdrive/Shareddrives/MIRCV/stanford-dogs-dataset.zip'\n",
        "!cp \"{zip_path}\" .\n",
        "!unzip stanford-dogs-dataset.zip -d '/content/gdrive/Shareddrives/MIRCV/Datasets' \n",
        "!rm stanford-dogs-dataset.zip"
      ]
    },
    {
      "cell_type": "code",
      "source": [
        "################################\n",
        "#### NON RUNNARE DI NUOVO!! ####\n",
        "################################\n",
        "\n",
        "#Per prendere il test set\n",
        "query_numbers = rand.sample(range(20580), 1000)\n",
        "\n",
        "def move_images(dest_path = TEST_PATH):\n",
        "  counter = 1\n",
        "\n",
        "  for img in tqdm(os.listdir(ALL_IMAGES_DIR)): \n",
        "    image_path = os.path.join(ALL_IMAGES_DIR, img)\n",
        "    \n",
        "    if counter in query_numbers:\n",
        "      shutil.move(image_path, dest_path)\n",
        "    counter = counter + 1\n",
        "\n",
        "#move_images()"
      ],
      "metadata": {
        "id": "xWznx_o7QvKo"
      },
      "execution_count": null,
      "outputs": []
    },
    {
      "cell_type": "markdown",
      "source": [
        "# **EXTRACT FEATURES**"
      ],
      "metadata": {
        "id": "osk10p0STI1Q"
      }
    },
    {
      "cell_type": "code",
      "execution_count": null,
      "metadata": {
        "id": "Oqm_0ZbX5Zjy"
      },
      "outputs": [],
      "source": [
        "model = tf.keras.applications.densenet.DenseNet121(\n",
        "    weights='imagenet', input_tensor=None, input_shape=(224,224,3), \n",
        "    pooling='avg', include_top=False\n",
        ")\n",
        "\n",
        "model.summary()"
      ]
    },
    {
      "cell_type": "markdown",
      "source": [
        ""
      ],
      "metadata": {
        "id": "v-X67HnOMk9r"
      }
    },
    {
      "cell_type": "code",
      "source": [
        "def extract_features():\n",
        "\n",
        "  features = []\n",
        "  for img in tqdm(os.listdir(ALL_IMAGES_DIR)):\n",
        "    image_path = os.path.join(ALL_IMAGES_DIR, img)\n",
        "    image_pil = tf.keras.utils.load_img(image_path, target_size=IMAGE_SIZE, interpolation='bilinear')\n",
        "    image_pil = np.array(image_pil)\n",
        "    image_pil = image_pil.astype(np.float32)\n",
        "    image_np = tf.keras.applications.densenet.preprocess_input(image_pil)\n",
        "    image_np = np.expand_dims(image_np, axis=0)  # add batch dimension\n",
        "    #image_feature_vector = model(image_np).numpy()\n",
        "    image_feature_vector = model.predict(image_np)\n",
        "    feat_name = (img, image_feature_vector)\n",
        "    features.append(feat_name)\n",
        "  np.savez(\"/content/gdrive/Shareddrives/Dataset/Features/features_nome_correct.npz\", features)\n",
        "extract_features()"
      ],
      "metadata": {
        "colab": {
          "base_uri": "https://localhost:8080/"
        },
        "id": "j_HibeY4TBms",
        "outputId": "ca1b12c6-3fa7-451f-9d0f-50b322104389"
      },
      "execution_count": null,
      "outputs": [
        {
          "output_type": "stream",
          "name": "stderr",
          "text": [
            "100%|██████████| 19580/19580 [1:09:47<00:00,  4.68it/s]\n",
            "/usr/local/lib/python3.7/dist-packages/numpy/lib/npyio.py:719: VisibleDeprecationWarning: Creating an ndarray from ragged nested sequences (which is a list-or-tuple of lists-or-tuples-or ndarrays with different lengths or shapes) is deprecated. If you meant to do this, you must specify 'dtype=object' when creating the ndarray.\n",
            "  val = np.asanyarray(val)\n"
          ]
        }
      ]
    },
    {
      "cell_type": "code",
      "execution_count": null,
      "metadata": {
        "colab": {
          "base_uri": "https://localhost:8080/"
        },
        "id": "m1sqLx0OnlaW",
        "outputId": "e483b636-6d8b-48d4-a628-9c347ab88695"
      },
      "outputs": [
        {
          "output_type": "stream",
          "name": "stderr",
          "text": [
            "100%|██████████| 25000/25000 [3:22:47<00:00,  2.05it/s]\n",
            "/usr/local/lib/python3.7/dist-packages/numpy/lib/npyio.py:719: VisibleDeprecationWarning: Creating an ndarray from ragged nested sequences (which is a list-or-tuple of lists-or-tuples-or ndarrays with different lengths or shapes) is deprecated. If you meant to do this, you must specify 'dtype=object' when creating the ndarray.\n",
            "  val = np.asanyarray(val)\n"
          ]
        }
      ],
      "source": [
        "def extract_features_noise():\n",
        "  \n",
        "  features = []\n",
        "\n",
        "  for img in tqdm(os.listdir(NOISE_DIR)):\n",
        "    image_path = os.path.join(NOISE_DIR, img)\n",
        "    image_pil = tf.keras.utils.load_img(image_path, target_size=IMAGE_SIZE, interpolation='bilinear')\n",
        "    image_pil = np.array(image_pil)\n",
        "    image_pil = image_pil.astype(np.float32)\n",
        "    image_np = tf.keras.applications.densenet.preprocess_input(image_pil)\n",
        "    image_np = np.expand_dims(image_np, axis=0)  # add batch dimension\n",
        "    #image_feature_vector = model(image_np).numpy()\n",
        "    image_feature_vector = model.predict(image_np)\n",
        "    feat_name = (img, image_feature_vector)\n",
        "    features.append(feat_name)\n",
        "  \n",
        "\n",
        "  np.savez(\"/content/gdrive/Shareddrives/Dataset/Features/features_noise_nome_correct.npz\", features)\n",
        "\n",
        "extract_features_noise()"
      ]
    },
    {
      "cell_type": "code",
      "source": [
        "#per inserire le immagini in un'unica cartella, necessario rifare l'estrazione delle immagini dopo però\n",
        "def move_images(dest_path = ALL_IMAGES_DIR):\n",
        "  for item in tqdm(os.listdir(DOGS_IMAGES_DIRECTORIES_PATH)): \n",
        "    dogs_directories = os.path.join(DOGS_IMAGES_DIRECTORIES_PATH, item)\n",
        "    for img in tqdm(os.listdir(dogs_directories)):\n",
        "      image_path = os.path.join(dogs_directories, img)\n",
        "      shutil.move(image_path, dest_path)"
      ],
      "metadata": {
        "id": "Q8H3sl5cuHep"
      },
      "execution_count": null,
      "outputs": []
    },
    {
      "cell_type": "markdown",
      "source": [
        "# **EXTRACT FEATURES FINETUNED MODEL**"
      ],
      "metadata": {
        "id": "5R-19IXk7SpW"
      }
    },
    {
      "cell_type": "code",
      "source": [
        "model_finetuned = keras.models.load_model('/content/gdrive/Shareddrives/MIRCV/Models/Fine_Tuning_Model6_Flatten_512120_LR0001')\n",
        "\n",
        "model = keras.models.Model(inputs=model_finetuned.input, outputs=model_finetuned.get_layer('flatten').output)\n",
        "model.summary()"
      ],
      "metadata": {
        "id": "-AUs5Ywm7Wsf"
      },
      "execution_count": null,
      "outputs": []
    },
    {
      "cell_type": "code",
      "source": [
        "def extract_finetuned_features():\n",
        "\n",
        "  features = []\n",
        "  for img in tqdm(os.listdir(ALL_IMAGES_DIR)):\n",
        "    image_path = os.path.join(ALL_IMAGES_DIR, img)\n",
        "    image_pil = tf.keras.utils.load_img(image_path, target_size=IMAGE_SIZE, interpolation='bilinear')\n",
        "    image_pil = np.array(image_pil)\n",
        "    image_pil = image_pil.astype(np.float32)\n",
        "    image_np = tf.keras.applications.densenet.preprocess_input(image_pil)\n",
        "    image_np = np.expand_dims(image_np, axis=0)  # add batch dimension\n",
        "    #image_feature_vector = model(image_np).numpy()\n",
        "    image_feature_vector = model.predict(image_np)\n",
        "    feat_name = (img, image_feature_vector)\n",
        "    features.append(feat_name)\n",
        "    \n",
        "  np.savez(\"/content/gdrive/Shareddrives/Dataset/Features/features_finetuned_nome_correct.npz\", features)\n",
        "  \n",
        "extract_finetuned_features()"
      ],
      "metadata": {
        "id": "jchvq8Lu7wGJ",
        "colab": {
          "base_uri": "https://localhost:8080/"
        },
        "outputId": "02b96921-d7cf-4ac6-f57b-b7fb42291ccf"
      },
      "execution_count": null,
      "outputs": [
        {
          "output_type": "stream",
          "name": "stderr",
          "text": [
            "100%|██████████| 19580/19580 [1:09:13<00:00,  4.71it/s]\n",
            "/usr/local/lib/python3.7/dist-packages/numpy/lib/npyio.py:719: VisibleDeprecationWarning: Creating an ndarray from ragged nested sequences (which is a list-or-tuple of lists-or-tuples-or ndarrays with different lengths or shapes) is deprecated. If you meant to do this, you must specify 'dtype=object' when creating the ndarray.\n",
            "  val = np.asanyarray(val)\n"
          ]
        }
      ]
    },
    {
      "cell_type": "code",
      "source": [
        "def extract_finetuned_features_noise():\n",
        "  \n",
        "  features = []\n",
        "\n",
        "  for img in tqdm(os.listdir(NOISE_DIR)):\n",
        "    image_path = os.path.join(NOISE_DIR, img)\n",
        "    image_pil = tf.keras.utils.load_img(image_path, target_size=IMAGE_SIZE, interpolation='bilinear')\n",
        "    image_pil = np.array(image_pil)\n",
        "    image_pil = image_pil.astype(np.float32)\n",
        "    image_np = tf.keras.applications.densenet.preprocess_input(image_pil)\n",
        "    image_np = np.expand_dims(image_np, axis=0)  # add batch dimension\n",
        "    #image_feature_vector = model(image_np).numpy()\n",
        "    image_feature_vector = model.predict(image_np)\n",
        "    feat_name = (img, image_feature_vector)\n",
        "    features.append(feat_name)\n",
        "  \n",
        "\n",
        "  np.savez(\"/content/gdrive/Shareddrives/Dataset/Features/features_finetuned_noise_nome_correct.npz\", features)\n",
        "\n",
        "extract_features_noise()"
      ],
      "metadata": {
        "id": "e-auUQ-w7zvg",
        "colab": {
          "base_uri": "https://localhost:8080/"
        },
        "outputId": "dd7b3e15-14af-4a69-fe40-93d2efd1118d"
      },
      "execution_count": null,
      "outputs": [
        {
          "output_type": "stream",
          "name": "stderr",
          "text": [
            " 42%|████▏     | 10581/25000 [43:32<54:45,  4.39it/s]"
          ]
        }
      ]
    },
    {
      "cell_type": "markdown",
      "source": [
        "# **CONCATENATE FINETUNED FEATURES MODEL PREDICT**"
      ],
      "metadata": {
        "id": "VSjU7MNs13t7"
      }
    },
    {
      "cell_type": "code",
      "source": [
        "#concatenate features predict \n",
        "path_features_distractors = \"/content/gdrive/Shareddrives/Dataset/Features/features_noise_nome_correct.npz\"\n",
        "path_features_images = \"/content/gdrive/Shareddrives/Dataset/Features/features_finetuned_nome_correct.npz\"\n",
        "\n",
        "features_im = np.load(path_features_images, allow_pickle=True)\n",
        "features_images = features_im['arr_0']\n",
        "\n",
        "features_dis = np.load(path_features_distractors, allow_pickle=True)\n",
        "features_distractors = features_dis['arr_0']\n",
        "\n",
        "features_finetuned_concatenate_predict = np.concatenate((features_images, features_distractors))\n",
        "#print (features_finetuned_concatenate_predict)\n",
        "\n",
        "np.savez(\"/content/gdrive/Shareddrives/Dataset/Features/features_finetuned_concatenate.npz\",features_finetuned_concatenate_predict)"
      ],
      "metadata": {
        "id": "nQCXaVPN18Va"
      },
      "execution_count": null,
      "outputs": []
    },
    {
      "cell_type": "code",
      "source": [
        "#concatenate normative model + distractor\n",
        "\n",
        "path_features_distractors = \"/content/gdrive/Shareddrives/Dataset/Features/features_noise_nome_correct.npz\"\n",
        "path_features_images = \"/content/gdrive/Shareddrives/Dataset/Features/features_nome_correct.npz\"\n",
        "\n",
        "features_im = np.load(path_features_images, allow_pickle=True)\n",
        "features_images = features_im['arr_0']\n",
        "\n",
        "features_dis = np.load(path_features_distractors, allow_pickle=True)\n",
        "features_distractors = features_dis['arr_0']\n",
        "\n",
        "features_finetuned_concatenate_predict = np.concatenate((features_images, features_distractors))\n",
        "#print (features_finetuned_concatenate_predict)\n",
        "\n",
        "np.savez(\"/content/gdrive/Shareddrives/Dataset/Features/features_NM_concatenate.npz\",features_finetuned_concatenate_predict)"
      ],
      "metadata": {
        "id": "N2HxdPpqqX-_"
      },
      "execution_count": null,
      "outputs": []
    }
  ],
  "metadata": {
    "colab": {
      "collapsed_sections": [],
      "name": "FeatureExtraction.ipynb",
      "provenance": [],
      "include_colab_link": true
    },
    "kernelspec": {
      "display_name": "Python 3",
      "name": "python3"
    },
    "language_info": {
      "name": "python"
    }
  },
  "nbformat": 4,
  "nbformat_minor": 0
}